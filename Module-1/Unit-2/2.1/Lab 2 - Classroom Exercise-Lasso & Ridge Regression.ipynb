{
 "cells": [
  {
   "cell_type": "markdown",
   "id": "1fa59e8c",
   "metadata": {},
   "source": [
    "# EDUNET FOUNDATION-Class Exercise Notebook"
   ]
  },
  {
   "cell_type": "markdown",
   "id": "6ba24699",
   "metadata": {},
   "source": [
    "## LAB 2 - Demonstrating Lasso & Ridge Regression"
   ]
  },
  {
   "cell_type": "markdown",
   "id": "41e2c36e",
   "metadata": {},
   "source": [
    "Importing Libraries and Modules"
   ]
  },
  {
   "cell_type": "code",
   "execution_count": 18,
   "id": "b32a4cd6",
   "metadata": {},
   "outputs": [],
   "source": [
    "import numpy as np\n",
    "import pandas as pd\n",
    "from pandas import DataFrame,Series\n",
    "import matplotlib\n",
    "import matplotlib.pyplot as plt\n",
    "%matplotlib inline \n",
    "from sklearn.linear_model import LinearRegression, Lasso, Ridge, ElasticNet, SGDRegressor\n",
    "from sklearn.datasets import load_boston\n",
    "from sklearn.preprocessing import StandardScaler\n",
    "from sklearn.model_selection import train_test_split\n",
    "import statsmodels.api as sm\n",
    "from scipy import stats\n",
    "import warnings\n",
    "warnings.filterwarnings('ignore')\n",
    "#from sklearn.model_selection import train_test_split"
   ]
  },
  {
   "cell_type": "markdown",
   "id": "3a666708",
   "metadata": {},
   "source": [
    "Define Helper Functions"
   ]
  },
  {
   "cell_type": "code",
   "execution_count": 2,
   "id": "0f0a30c6",
   "metadata": {},
   "outputs": [],
   "source": [
    "def pretty_print_linear(coefs, names = None, sort = False):\n",
    "    if names is None:\n",
    "        names = [\"X%s\" % x for x in range(len(coefs))]\n",
    "    lst = zip(coefs, names)\n",
    "    if sort:\n",
    "        lst = sorted(lst, key = lambda x:-np.abs(x[0]))\n",
    "    return \" + \".join(\"%s * %s\" % (round(coef, 3), name) for coef, name in lst)"
   ]
  },
  {
   "cell_type": "markdown",
   "id": "2e67cc1b",
   "metadata": {},
   "source": [
    "Function to Load Data"
   ]
  },
  {
   "cell_type": "code",
   "execution_count": 3,
   "id": "2450e50d",
   "metadata": {},
   "outputs": [],
   "source": [
    "def load_data():\n",
    "    boston = load_boston()\n",
    "    print (boston.DESCR)\n",
    "    X = boston[\"data\"]\n",
    "    Y = boston[\"target\"]\n",
    "    names = boston[\"feature_names\"]\n",
    "    return X,Y,names"
   ]
  },
  {
   "cell_type": "markdown",
   "id": "a1f5eb00",
   "metadata": {},
   "source": [
    "Function to Scale Data"
   ]
  },
  {
   "cell_type": "code",
   "execution_count": 4,
   "id": "a96ffa1a",
   "metadata": {},
   "outputs": [],
   "source": [
    "def scale_data(X):\n",
    "    scaler = StandardScaler()\n",
    "    X = scaler.fit_transform(X)\n",
    "    return X"
   ]
  },
  {
   "cell_type": "markdown",
   "id": "9a2b0ea1",
   "metadata": {},
   "source": [
    "Function to Split Data into Training and Testing Sets"
   ]
  },
  {
   "cell_type": "code",
   "execution_count": 5,
   "id": "069cbba6",
   "metadata": {},
   "outputs": [],
   "source": [
    "def split_data(X,Y):\n",
    "    X_train, X_test, Y_train, Y_test = train_test_split(X, Y, test_size=0.33, random_state=42)\n",
    "    return X_train, X_test, Y_train, Y_test"
   ]
  },
  {
   "cell_type": "markdown",
   "id": "1d98f554",
   "metadata": {},
   "source": [
    "Function to Calculate Root Mean Square Error (RMSE)"
   ]
  },
  {
   "cell_type": "code",
   "execution_count": 6,
   "id": "286fa2c9",
   "metadata": {},
   "outputs": [],
   "source": [
    "def root_mean_square_error(y_pred,y_test):\n",
    "    rmse_train = np.sqrt(np.dot(abs(y_pred-y_test),abs(y_pred-y_test))/len(y_test))\n",
    "    return rmse_train"
   ]
  },
  {
   "cell_type": "markdown",
   "id": "3045f0b6",
   "metadata": {},
   "source": [
    "Function to Plot Real vs Predicted Values"
   ]
  },
  {
   "cell_type": "code",
   "execution_count": 19,
   "id": "f5d936a0",
   "metadata": {},
   "outputs": [],
   "source": [
    "def plot_real_vs_predicted(y_pred, y_test):\n",
    "    plt.plot(y_pred, y_test, 'ro')\n",
    "    plt.plot([0, 50], [0, 50], 'g-')\n",
    "    plt.xlabel('predicted')\n",
    "    plt.ylabel('real')\n",
    "    plt.show()\n",
    "    return plt\n"
   ]
  },
  {
   "cell_type": "markdown",
   "id": "885be98f",
   "metadata": {},
   "source": [
    "Function to Generate Regression Statistics"
   ]
  },
  {
   "cell_type": "code",
   "execution_count": 8,
   "id": "412a2263",
   "metadata": {},
   "outputs": [],
   "source": [
    "def generate_regression_values(model, X, y):\n",
    "    params = np.append(model.intercept_, model.coef_)\n",
    "    predictions = model.predict(X)\n",
    "    newX = pd.DataFrame({\"Constant\": np.ones(len(X))}).join(pd.DataFrame(X))\n",
    "    MSE = (sum((y - predictions) ** 2)) / (len(newX) - len(newX.columns))\n",
    "\n",
    "    # Note if you don't want to use a DataFrame replace the two lines above with\n",
    "    # newX = np.append(np.ones((len(X),1)), X, axis=1)\n",
    "    # MSE = (sum((y-predictions)**2))/(len(newX)-len(newX[0]))\n",
    "\n",
    "    var_b = MSE * (np.linalg.inv(np.dot(newX.T, newX)).diagonal())\n",
    "    sd_b = np.sqrt(var_b)\n",
    "    ts_b = params / sd_b\n",
    "\n",
    "    p_values = [2 * (1 - stats.t.cdf(np.abs(i), (len(newX) - 1))) for i in ts_b]\n",
    "\n",
    "    sd_b = np.round(sd_b, 3)\n",
    "    ts_b = np.round(ts_b, 3)\n",
    "    p_values = np.round(p_values, 3)\n",
    "    params = np.round(params, 4)\n",
    "\n",
    "    myDF3 = pd.DataFrame()\n",
    "    myDF3[\"Coefficients\"], myDF3[\"Standard Errors\"], myDF3[\"t values\"], myDF3[\n",
    "        \"Probabilites\"\n",
    "    ] = [params, sd_b, ts_b, p_values]\n",
    "    print(myDF3)"
   ]
  },
  {
   "cell_type": "markdown",
   "id": "dfee14af",
   "metadata": {},
   "source": [
    "Load and Prepare Data"
   ]
  },
  {
   "cell_type": "code",
   "execution_count": 9,
   "id": "51c58d62",
   "metadata": {},
   "outputs": [
    {
     "name": "stdout",
     "output_type": "stream",
     "text": [
      ".. _boston_dataset:\n",
      "\n",
      "Boston house prices dataset\n",
      "---------------------------\n",
      "\n",
      "**Data Set Characteristics:**  \n",
      "\n",
      "    :Number of Instances: 506 \n",
      "\n",
      "    :Number of Attributes: 13 numeric/categorical predictive. Median Value (attribute 14) is usually the target.\n",
      "\n",
      "    :Attribute Information (in order):\n",
      "        - CRIM     per capita crime rate by town\n",
      "        - ZN       proportion of residential land zoned for lots over 25,000 sq.ft.\n",
      "        - INDUS    proportion of non-retail business acres per town\n",
      "        - CHAS     Charles River dummy variable (= 1 if tract bounds river; 0 otherwise)\n",
      "        - NOX      nitric oxides concentration (parts per 10 million)\n",
      "        - RM       average number of rooms per dwelling\n",
      "        - AGE      proportion of owner-occupied units built prior to 1940\n",
      "        - DIS      weighted distances to five Boston employment centres\n",
      "        - RAD      index of accessibility to radial highways\n",
      "        - TAX      full-value property-tax rate per $10,000\n",
      "        - PTRATIO  pupil-teacher ratio by town\n",
      "        - B        1000(Bk - 0.63)^2 where Bk is the proportion of black people by town\n",
      "        - LSTAT    % lower status of the population\n",
      "        - MEDV     Median value of owner-occupied homes in $1000's\n",
      "\n",
      "    :Missing Attribute Values: None\n",
      "\n",
      "    :Creator: Harrison, D. and Rubinfeld, D.L.\n",
      "\n",
      "This is a copy of UCI ML housing dataset.\n",
      "https://archive.ics.uci.edu/ml/machine-learning-databases/housing/\n",
      "\n",
      "\n",
      "This dataset was taken from the StatLib library which is maintained at Carnegie Mellon University.\n",
      "\n",
      "The Boston house-price data of Harrison, D. and Rubinfeld, D.L. 'Hedonic\n",
      "prices and the demand for clean air', J. Environ. Economics & Management,\n",
      "vol.5, 81-102, 1978.   Used in Belsley, Kuh & Welsch, 'Regression diagnostics\n",
      "...', Wiley, 1980.   N.B. Various transformations are used in the table on\n",
      "pages 244-261 of the latter.\n",
      "\n",
      "The Boston house-price data has been used in many machine learning papers that address regression\n",
      "problems.   \n",
      "     \n",
      ".. topic:: References\n",
      "\n",
      "   - Belsley, Kuh & Welsch, 'Regression diagnostics: Identifying Influential Data and Sources of Collinearity', Wiley, 1980. 244-261.\n",
      "   - Quinlan,R. (1993). Combining Instance-Based and Model-Based Learning. In Proceedings on the Tenth International Conference of Machine Learning, 236-243, University of Massachusetts, Amherst. Morgan Kaufmann.\n",
      "\n"
     ]
    }
   ],
   "source": [
    "X,Y,names = load_data()"
   ]
  },
  {
   "cell_type": "code",
   "execution_count": 10,
   "id": "f8286fab",
   "metadata": {},
   "outputs": [],
   "source": [
    "np.set_printoptions(precision=2, linewidth=100, suppress=True, edgeitems=2)"
   ]
  },
  {
   "cell_type": "code",
   "execution_count": 11,
   "id": "e952ea47",
   "metadata": {},
   "outputs": [
    {
     "data": {
      "text/plain": [
       "array([[  0.01,  18.  ,   2.31,   0.  ,   0.54,   6.58,  65.2 ,   4.09,   1.  , 296.  ,  15.3 ,\n",
       "        396.9 ,   4.98],\n",
       "       [  0.03,   0.  ,   7.07,   0.  ,   0.47,   6.42,  78.9 ,   4.97,   2.  , 242.  ,  17.8 ,\n",
       "        396.9 ,   9.14],\n",
       "       [  0.03,   0.  ,   7.07,   0.  ,   0.47,   7.18,  61.1 ,   4.97,   2.  , 242.  ,  17.8 ,\n",
       "        392.83,   4.03],\n",
       "       [  0.03,   0.  ,   2.18,   0.  ,   0.46,   7.  ,  45.8 ,   6.06,   3.  , 222.  ,  18.7 ,\n",
       "        394.63,   2.94],\n",
       "       [  0.07,   0.  ,   2.18,   0.  ,   0.46,   7.15,  54.2 ,   6.06,   3.  , 222.  ,  18.7 ,\n",
       "        396.9 ,   5.33]])"
      ]
     },
     "execution_count": 11,
     "metadata": {},
     "output_type": "execute_result"
    }
   ],
   "source": [
    "X[0:5]"
   ]
  },
  {
   "cell_type": "code",
   "execution_count": 12,
   "id": "6e926846",
   "metadata": {},
   "outputs": [],
   "source": [
    "X = scale_data(X)"
   ]
  },
  {
   "cell_type": "code",
   "execution_count": 13,
   "id": "7b964b3d",
   "metadata": {},
   "outputs": [],
   "source": [
    "X_train, X_test, Y_train, Y_test = split_data(X,Y)"
   ]
  },
  {
   "cell_type": "markdown",
   "id": "4dd6cf46",
   "metadata": {},
   "source": [
    "### Let's try Linear Regression:"
   ]
  },
  {
   "cell_type": "code",
   "execution_count": 14,
   "id": "9d21c3af",
   "metadata": {},
   "outputs": [
    {
     "name": "stdout",
     "output_type": "stream",
     "text": [
      "Linear model:  -3.906 * LSTAT + -2.992 * DIS + 2.739 * RM + 2.043 * RAD + -2.009 * PTRATIO + -1.872 * NOX + -1.383 * TAX + -1.106 * CRIM + 1.073 * B + 0.881 * ZN + 0.822 * CHAS + 0.399 * INDUS + -0.361 * AGE\n",
      "Root Mean Square Error: 4.552364598463066\n"
     ]
    },
    {
     "data": {
      "image/png": "[encoded data removed]",
      "text/plain": [
       "<Figure size 432x288 with 1 Axes>"
      ]
     },
     "metadata": {
      "needs_background": "light"
     },
     "output_type": "display_data"
    },
    {
     "data": {
      "text/plain": [
       "<module 'matplotlib.pyplot' from 'C:\\\\ProgramData\\\\Anaconda3\\\\lib\\\\site-packages\\\\matplotlib\\\\pyplot.py'>"
      ]
     },
     "execution_count": 14,
     "metadata": {},
     "output_type": "execute_result"
    }
   ],
   "source": [
    "# Create linear regression object\n",
    "linreg = LinearRegression()\n",
    "\n",
    "# Train the model using the training sets\n",
    "linreg.fit(X_train,Y_train)\n",
    "\n",
    "print (\"Linear model: \", pretty_print_linear(linreg.coef_, names, sort = True))\n",
    "\n",
    "# Predict the values using the model\n",
    "Y_lin_predict = linreg.predict(X_test)\n",
    "\n",
    "# Print the root mean square error \n",
    "print (\"Root Mean Square Error: {}\".format(root_mean_square_error(Y_lin_predict,Y_test)))\n",
    "plot_real_vs_predicted(Y_test,Y_lin_predict)"
   ]
  },
  {
   "cell_type": "code",
   "execution_count": 15,
   "id": "4ebdfb73",
   "metadata": {},
   "outputs": [
    {
     "name": "stdout",
     "output_type": "stream",
     "text": [
      "    Coefficients  Standard Errors  t values  Probabilites\n",
      "0        22.4660            0.383    58.584         0.000\n",
      "1        -1.1064            0.431    -2.570         0.011\n",
      "2         0.8813            0.534     1.649         0.101\n",
      "3         0.3990            0.856     0.466         0.642\n",
      "4         0.8218            0.449     1.830         0.069\n",
      "5        -1.8719            0.776    -2.413         0.017\n",
      "6         2.7389            0.570     4.809         0.000\n",
      "7        -0.3614            0.705    -0.513         0.609\n",
      "8        -2.9918            0.770    -3.885         0.000\n",
      "9         2.0429            1.025     1.993         0.048\n",
      "10       -1.3829            1.170    -1.182         0.239\n",
      "11       -2.0086            0.572    -3.511         0.001\n",
      "12        1.0734            0.438     2.451         0.015\n",
      "13       -3.9063            0.783    -4.990         0.000\n"
     ]
    }
   ],
   "source": [
    "generate_regression_values(linreg, X_test, Y_test)"
   ]
  },
  {
   "cell_type": "markdown",
   "id": "f0f8f026",
   "metadata": {},
   "source": [
    "### Let's try Lasso Regression:"
   ]
  },
  {
   "cell_type": "code",
   "execution_count": 16,
   "id": "da00ea3f",
   "metadata": {},
   "outputs": [
    {
     "name": "stdout",
     "output_type": "stream",
     "text": [
      "Lasso model:  -4.01 * LSTAT + 2.858 * RM + -1.611 * PTRATIO + -0.91 * DIS + 0.802 * B + 0.736 * CHAS + -0.423 * NOX + -0.296 * CRIM + 0.0 * ZN + -0.0 * INDUS + -0.0 * AGE + 0.0 * RAD + -0.0 * TAX\n",
      "Root Mean Square Error:  4.845345289310666\n"
     ]
    },
    {
     "data": {
      "image/png": "[encoded data removed]",
      "text/plain": [
       "<Figure size 432x288 with 1 Axes>"
      ]
     },
     "metadata": {
      "needs_background": "light"
     },
     "output_type": "display_data"
    },
    {
     "data": {
      "text/plain": [
       "<module 'matplotlib.pyplot' from 'C:\\\\ProgramData\\\\Anaconda3\\\\lib\\\\site-packages\\\\matplotlib\\\\pyplot.py'>"
      ]
     },
     "execution_count": 16,
     "metadata": {},
     "output_type": "execute_result"
    }
   ],
   "source": [
    "# Create lasso regression object\n",
    "lasso = Lasso(alpha=.3)\n",
    "\n",
    "# Train the model using the training sets\n",
    "lasso.fit(X_train, Y_train) \n",
    "\n",
    "print (\"Lasso model: \", pretty_print_linear(lasso.coef_, names, sort = True))\n",
    "\n",
    "# Predict the values using the model\n",
    "Y_lasso_predict = lasso.predict(X_test)\n",
    "\n",
    "# Print the root mean square error \n",
    "print (\"Root Mean Square Error: \", root_mean_square_error(Y_lasso_predict,Y_test))\n",
    "plot_real_vs_predicted(Y_test,Y_lasso_predict)"
   ]
  },
  {
   "cell_type": "code",
   "execution_count": 17,
   "id": "bc519cf4",
   "metadata": {},
   "outputs": [
    {
     "name": "stdout",
     "output_type": "stream",
     "text": [
      "    Coefficients  Standard Errors  t values  Probabilites\n",
      "0        22.5150            0.408    55.162         0.000\n",
      "1        -0.2961            0.458    -0.646         0.519\n",
      "2         0.0000            0.569     0.000         1.000\n",
      "3        -0.0000            0.911    -0.000         1.000\n",
      "4         0.7361            0.478     1.540         0.125\n",
      "5        -0.4230            0.826    -0.512         0.609\n",
      "6         2.8582            0.606     4.715         0.000\n",
      "7        -0.0000            0.750    -0.000         1.000\n",
      "8        -0.9101            0.820    -1.110         0.268\n",
      "9         0.0000            1.091     0.000         1.000\n",
      "10       -0.0000            1.245    -0.000         1.000\n",
      "11       -1.6107            0.609    -2.645         0.009\n",
      "12        0.8023            0.466     1.721         0.087\n",
      "13       -4.0096            0.833    -4.813         0.000\n"
     ]
    }
   ],
   "source": [
    "generate_regression_values(lasso, X_test, Y_test)"
   ]
  },
  {
   "cell_type": "code",
   "execution_count": null,
   "id": "31a9c7f8",
   "metadata": {},
   "outputs": [],
   "source": []
  }
 ],
 "metadata": {
  "kernelspec": {
   "display_name": "Python 3 (ipykernel)",
   "language": "python",
   "name": "python3"
  },
  "language_info": {
   "codemirror_mode": {
    "name": "ipython",
    "version": 3
   },
   "file_extension": ".py",
   "mimetype": "text/x-python",
   "name": "python",
   "nbconvert_exporter": "python",
   "pygments_lexer": "ipython3",
   "version": "3.10.9"
  },
  "toc": {
   "base_numbering": 1,
   "nav_menu": {},
   "number_sections": true,
   "sideBar": true,
   "skip_h1_title": false,
   "title_cell": "Table of Contents",
   "title_sidebar": "Contents",
   "toc_cell": false,
   "toc_position": {},
   "toc_section_display": true,
   "toc_window_display": false
  }
 },
 "nbformat": 4,
 "nbformat_minor": 5
}
