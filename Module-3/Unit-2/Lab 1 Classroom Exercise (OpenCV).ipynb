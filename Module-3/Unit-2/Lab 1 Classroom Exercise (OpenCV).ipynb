{
 "cells": [
  {
   "cell_type": "markdown",
   "id": "d9908b61",
   "metadata": {},
   "source": [
    "#  EDUNET FOUNDATION - Classroom Exercise Notebook"
   ]
  },
  {
   "cell_type": "markdown",
   "id": "7ebbb29e",
   "metadata": {},
   "source": [
    "## Lab - 1 Basic Operation on Image Using cv2 \n"
   ]
  },
  {
   "cell_type": "markdown",
   "id": "5b263466",
   "metadata": {},
   "source": [
    "## Exercise-1 Image Reading in Different Types"
   ]
  },
  {
   "cell_type": "code",
   "execution_count": 14,
   "id": "5c2006d1",
   "metadata": {},
   "outputs": [],
   "source": [
    "import cv2\n",
    "import numpy as np"
   ]
  },
  {
   "cell_type": "code",
   "execution_count": 15,
   "id": "d4852ff2",
   "metadata": {},
   "outputs": [],
   "source": [
    "image = cv2.imread(\"image.jpeg\")"
   ]
  },
  {
   "cell_type": "markdown",
   "id": "2a368637",
   "metadata": {},
   "source": [
    "### In the Second Parameter of cv2.imread(\"Source of Image \", below 3 options)\n",
    "- cv2.IMREAD_COLOR: It specifies to load a color image. Any transparency of image will be neglected. It is the default flag. Alternatively, we can pass integer value 1 for this flag.\n",
    "- cv2.IMREAD_GRAYSCALE: It specifies to load an image in grayscale mode. Alternatively, we can pass integer value 0 for this flag.\n",
    "- cv2.IMREAD_UNCHANGED: It specifies to load an image as such including alpha channel. Alternatively, we can pass integer value -1 for this flag.\n"
   ]
  },
  {
   "cell_type": "code",
   "execution_count": null,
   "id": "caf0e0f2",
   "metadata": {},
   "outputs": [],
   "source": [
    "cv2.imshow(\"image\", image)\n",
    "cv2.waitKey(0)\n",
    "cv2.destroyAllWindows()"
   ]
  },
  {
   "cell_type": "code",
   "execution_count": null,
   "id": "7f0e5cf7",
   "metadata": {},
   "outputs": [],
   "source": []
  },
  {
   "cell_type": "markdown",
   "id": "a71034c6",
   "metadata": {},
   "source": [
    "## Exercise-2 Starting Video Camera"
   ]
  },
  {
   "cell_type": "markdown",
   "id": "b1649ce1",
   "metadata": {},
   "source": [
    "### Steps to capture a video:\n",
    "\n",
    "- Use cv2.VideoCapture() to get a video capture object for the camera.\n",
    "- Set up an infinite while loop and use the read() method to read the frames using the above created object.\n",
    "- Use cv2.imshow() method to show the frames in the video.\n",
    "- Breaks the loop when the user clicks a specific key."
   ]
  },
  {
   "cell_type": "code",
   "execution_count": null,
   "id": "33d7b22b",
   "metadata": {},
   "outputs": [],
   "source": [
    "# import the opencv library\n",
    "import cv2\n",
    "  \n",
    "  \n",
    "# define a video capture object\n",
    "vid = cv2.VideoCapture(0)\n",
    "  \n",
    "while(True):\n",
    "      \n",
    "    # Capture the video frame\n",
    "    # by frame\n",
    "    ret, frame = vid.read()\n",
    "  \n",
    "    # Display the resulting frame\n",
    "    cv2.imshow('frame', frame)\n",
    "      \n",
    "    # the 'q' button is set as the\n",
    "    # quitting button you may use any\n",
    "    # desired button of your choice\n",
    "    if cv2.waitKey(1) & 0xFF == ord('q'):\n",
    "        break\n",
    "  \n",
    "# After the loop release the cap object\n",
    "vid.release()\n",
    "# Destroy all the windows\n",
    "cv2.destroyAllWindows()"
   ]
  },
  {
   "cell_type": "markdown",
   "id": "37a528cf",
   "metadata": {},
   "source": [
    "## Exercise-3 Image Filter"
   ]
  },
  {
   "cell_type": "code",
   "execution_count": null,
   "id": "8df025bf",
   "metadata": {},
   "outputs": [],
   "source": [
    "image = cv2.imread(\"image.jpeg\")\n",
    "\n",
    "# Print error message if image is null\n",
    "if image is None:\n",
    "    print('Could not read image')\n",
    "\n",
    "# Apply identity kernel\n",
    "kernel1 = np.array([[-7, 0, 7],\n",
    "                    [-7, 0, 7],\n",
    "                    [-7, 0, 7]])\n",
    "\n",
    "identity = cv2.filter2D(src=image,  ddepth=-1,kernel=kernel1)\n",
    "\n",
    "\n",
    "cv2.imshow('Original', image)\n",
    "cv2.imshow('Identity', identity)\n",
    "    \n",
    "cv2.waitKey()\n",
    "cv2.imwrite('identity.jpg', identity)\n",
    "cv2.destroyAllWindows()"
   ]
  },
  {
   "cell_type": "code",
   "execution_count": null,
   "id": "bc5ace26",
   "metadata": {},
   "outputs": [],
   "source": [
    "# Apply blurring kernel\n",
    "kernel2 = np.ones((5, 5), np.float32) / 25\n",
    "img = cv2.filter2D(src=image, ddepth=-1, kernel=kernel2)\n",
    "\n",
    "cv2.imshow('Original', image)\n",
    "cv2.imshow('Kernel Blur', img)\n",
    "    \n",
    "cv2.waitKey()\n",
    "cv2.imwrite('blur_kernel.jpg', img)\n",
    "cv2.destroyAllWindows()"
   ]
  },
  {
   "cell_type": "code",
   "execution_count": null,
   "id": "58491a3d",
   "metadata": {},
   "outputs": [],
   "source": [
    "b,g,r=cv2.split(image)"
   ]
  },
  {
   "cell_type": "code",
   "execution_count": null,
   "id": "8faf9000",
   "metadata": {},
   "outputs": [],
   "source": [
    "g=b//2"
   ]
  },
  {
   "cell_type": "code",
   "execution_count": null,
   "id": "ff92316c",
   "metadata": {},
   "outputs": [],
   "source": [
    "g"
   ]
  },
  {
   "cell_type": "code",
   "execution_count": null,
   "id": "b47239f9",
   "metadata": {},
   "outputs": [],
   "source": [
    "img=cv2.merge((b,g,r))"
   ]
  },
  {
   "cell_type": "code",
   "execution_count": null,
   "id": "23016b21",
   "metadata": {},
   "outputs": [],
   "source": [
    "cv2.imshow('Original', img)\n",
    "cv2.waitKey()\n",
    "cv2.destroyAllWindows()\n"
   ]
  },
  {
   "cell_type": "code",
   "execution_count": null,
   "id": "d0ce71c2",
   "metadata": {},
   "outputs": [],
   "source": []
  },
  {
   "cell_type": "code",
   "execution_count": null,
   "id": "c9325bac",
   "metadata": {},
   "outputs": [],
   "source": []
  }
 ],
 "metadata": {
  "kernelspec": {
   "display_name": "Python 3 (ipykernel)",
   "language": "python",
   "name": "python3"
  },
  "language_info": {
   "codemirror_mode": {
    "name": "ipython",
    "version": 3
   },
   "file_extension": ".py",
   "mimetype": "text/x-python",
   "name": "python",
   "nbconvert_exporter": "python",
   "pygments_lexer": "ipython3",
   "version": "3.11.5"
  }
 },
 "nbformat": 4,
 "nbformat_minor": 5
}
