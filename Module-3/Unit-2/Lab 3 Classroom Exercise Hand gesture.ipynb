{
 "cells": [
  {
   "cell_type": "code",
   "execution_count": null,
   "id": "dcfa812a",
   "metadata": {},
   "outputs": [],
   "source": [
    "pip install mediapipe"
   ]
  },
  {
   "cell_type": "code",
   "execution_count": null,
   "id": "edde1fd8",
   "metadata": {},
   "outputs": [],
   "source": [
    "pip install screen-brightness-control"
   ]
  },
  {
   "cell_type": "code",
   "execution_count": null,
   "id": "4af8e19c",
   "metadata": {},
   "outputs": [],
   "source": [
    "# Importing Libraries \n",
    "import cv2 \n",
    "import mediapipe as mp \n",
    "from math import hypot \n",
    "import screen_brightness_control as sbc \n",
    "import numpy as np \n"
   ]
  },
  {
   "cell_type": "code",
   "execution_count": null,
   "id": "0c36410d",
   "metadata": {},
   "outputs": [],
   "source": [
    "# Initializing the Model \n",
    "mpHands = mp.solutions.hands \n",
    "hands = mpHands.Hands( \n",
    "\tstatic_image_mode=False, \n",
    "\tmodel_complexity=1, \n",
    "\tmin_detection_confidence=0.75, \n",
    "\tmin_tracking_confidence=0.75, \n",
    "\tmax_num_hands=2) \n",
    "\n",
    "Draw = mp.solutions.drawing_utils \n"
   ]
  },
  {
   "cell_type": "code",
   "execution_count": null,
   "id": "40904830",
   "metadata": {},
   "outputs": [],
   "source": [
    "# Start capturing video from webcam \n",
    "cap = cv2.VideoCapture(0) \n",
    "\n",
    "while True: \n",
    "\t# Read video frame by frame \n",
    "\t_,frame = cap.read() \n",
    "\t\n",
    "\t#Flip image \n",
    "\tframe=cv2.flip(frame,1) \n",
    "\t\n",
    "\t# Convert BGR image to RGB image \n",
    "\tframeRGB = cv2.cvtColor(frame,cv2.COLOR_BGR2RGB) \n",
    "\t\n",
    "\t# Process the RGB image \n",
    "\tProcess = hands.process(frameRGB) \n",
    "\t\n",
    "\tlandmarkList = [] \n",
    "\t# if hands are present in image(frame) \n",
    "\tif Process.multi_hand_landmarks: \n",
    "\t\t# detect handmarks \n",
    "\t\tfor handlm in Process.multi_hand_landmarks: \n",
    "\t\t\tfor _id,landmarks in enumerate(handlm.landmark): \n",
    "\t\t\t\t# store height and width of image \n",
    "\t\t\t\theight,width,color_channels = frame.shape \n",
    "\t\t\t\t\n",
    "\t\t\t\t# calculate and append x, y coordinates \n",
    "\t\t\t\t# of handmarks from image(frame) to lmList \n",
    "\t\t\t\tx,y = int(landmarks.x*width),int(landmarks.y*height)\t\t\t \n",
    "\t\t\t\tlandmarkList.append([_id,x,y]) \n",
    "\t\t\t\n",
    "\t\t\t# draw Landmarks \n",
    "\t\t\tDraw.draw_landmarks(frame,handlm,mpHands.HAND_CONNECTIONS) \n",
    "\t\n",
    "\t# If landmarks list is not empty \n",
    "\tif landmarkList != []: \n",
    "\t\t# store x,y coordinates of (tip of) thumb \n",
    "\t\tx_1,y_1 = landmarkList[4][1],landmarkList[4][2] \n",
    "\t\t\n",
    "\t\t# store x,y coordinates of (tip of) index finger \n",
    "\t\tx_2,y_2 = landmarkList[8][1],landmarkList[8][2] \n",
    "\t\t\n",
    "\t\t# draw circle on thumb and index finger tip \n",
    "\t\tcv2.circle(frame,(x_1,y_1),7,(0,255,0),cv2.FILLED) \n",
    "\t\tcv2.circle(frame,(x_2,y_2),7,(0,255,0),cv2.FILLED) \n",
    "\t\t\n",
    "\t\t# draw line from tip of thumb to tip of index finger \n",
    "\t\tcv2.line(frame,(x_1,y_1),(x_2,y_2),(0,255,0),3) \n",
    "\t\t\n",
    "\t\t# calculate square root of the sum \n",
    "\t\t# of squares of the specified arguments. \n",
    "\t\tL = hypot(x_2-x_1,y_2-y_1) \n",
    "\t\t\n",
    "\t\t# 1-D linear interpolant to a function \n",
    "\t\t# with given discrete data points \n",
    "\t\t# (Hand range 15 - 220, Brightness range 0 - 100), \n",
    "\t\t# evaluated at length. \n",
    "\t\tb_level = np.interp(L,[15,220],[0,100]) \n",
    "\t\n",
    "\t\t# set brightness \n",
    "\t\tsbc.set_brightness(int(b_level)) \n",
    "\n",
    "\t# Display Video and when 'q' is entered, \n",
    "\t# destroy the window \n",
    "\tcv2.imshow('Image', frame) \n",
    "\tif cv2.waitKey(1) & 0xff == ord('q'): \n",
    "\t\tbreak\n"
   ]
  },
  {
   "cell_type": "code",
   "execution_count": null,
   "id": "63bac0ef",
   "metadata": {},
   "outputs": [],
   "source": []
  },
  {
   "cell_type": "code",
   "execution_count": null,
   "id": "25d09c40",
   "metadata": {},
   "outputs": [],
   "source": []
  },
  {
   "cell_type": "code",
   "execution_count": null,
   "id": "70fa00f3",
   "metadata": {},
   "outputs": [],
   "source": []
  }
 ],
 "metadata": {
  "kernelspec": {
   "display_name": "39",
   "language": "python",
   "name": "39"
  },
  "language_info": {
   "codemirror_mode": {
    "name": "ipython",
    "version": 3
   },
   "file_extension": ".py",
   "mimetype": "text/x-python",
   "name": "python",
   "nbconvert_exporter": "python",
   "pygments_lexer": "ipython3",
   "version": "3.9.18"
  }
 },
 "nbformat": 4,
 "nbformat_minor": 5
}
