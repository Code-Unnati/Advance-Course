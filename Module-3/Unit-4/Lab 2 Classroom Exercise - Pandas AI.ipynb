{
 "cells": [
  {
   "cell_type": "code",
   "execution_count": null,
   "metadata": {
    "id": "7BlfJpVqtGDY"
   },
   "outputs": [],
   "source": []
  },
  {
   "cell_type": "code",
   "execution_count": null,
   "metadata": {},
   "outputs": [],
   "source": [
    "!pip install pandasai"
   ]
  },
  {
   "cell_type": "code",
   "execution_count": null,
   "metadata": {},
   "outputs": [],
   "source": [
    "import os\n",
    "import pandas as pd\n",
    "from pandasai import Agent"
   ]
  },
  {
   "cell_type": "code",
   "execution_count": null,
   "metadata": {
    "colab": {
     "base_uri": "https://localhost:8080/",
     "height": 36
    },
    "id": "aQaCJC0vt9PE",
    "outputId": "e375cf70-7481-4151-829f-8eac8f2724f9"
   },
   "outputs": [],
   "source": [
    "# Sample DataFrame\n",
    "sales_by_country = pd.DataFrame({\n",
    "    \"country\": [\"United States\", \"United Kingdom\", \"France\", \"Germany\", \"Italy\", \"Spain\", \"Canada\", \"Australia\", \"Japan\", \"China\"],\n",
    "    \"sales\": [5000, 3200, 2900, 4100, 2300, 2100, 2500, 2600, 4500, 7000]\n",
    "})\n",
    "\n",
    "# By default, unless you choose a different LLM, it will use BambooLLM.\n",
    "# You can get your free API key signing up at https://pandabi.ai (you can also configure it in your .env file)\n",
    "os.environ[\"PANDASAI_API_KEY\"] = \"$2a$10$j3lDvR0w2uzLtxi/bB2DBehUixwpNPkS7JU.3Qh5657ZM7rbhp0KK\"\n",
    "\n",
    "agent = Agent(sales_by_country)\n",
    "agent.chat('Which are the top 5 countries by sales?')"
   ]
  },
  {
   "cell_type": "code",
   "execution_count": null,
   "metadata": {
    "colab": {
     "base_uri": "https://localhost:8080/"
    },
    "id": "K3riUQbduMYl",
    "outputId": "7d931c2a-6bac-4beb-f6a8-8960d2556eb6"
   },
   "outputs": [],
   "source": [
    "agent.chat(\n",
    "    \"What is the total sales for the top 3 countries by sales?\"\n",
    ")"
   ]
  },
  {
   "cell_type": "code",
   "execution_count": null,
   "metadata": {
    "colab": {
     "base_uri": "https://localhost:8080/",
     "height": 731
    },
    "id": "70444S07uR6Z",
    "outputId": "42ddd67f-a132-49c7-e28a-bf883eb58d85"
   },
   "outputs": [],
   "source": [
    "agent.chat(\n",
    "    \"Plot the histogram of countries showing for each the gdp, using different colors for each bar\",\n",
    ")"
   ]
  },
  {
   "cell_type": "code",
   "execution_count": null,
   "metadata": {
    "colab": {
     "base_uri": "https://localhost:8080/",
     "height": 36
    },
    "id": "LyKilNM_uVua",
    "outputId": "27cf9485-3e5a-4133-cf35-bc55689297bb"
   },
   "outputs": [],
   "source": [
    "import os\n",
    "import pandas as pd\n",
    "from pandasai import Agent\n",
    "\n",
    "employees_data = {\n",
    "    'EmployeeID': [1, 2, 3, 4, 5],\n",
    "    'Name': ['John', 'Emma', 'Liam', 'Olivia', 'William'],\n",
    "    'Department': ['HR', 'Sales', 'IT', 'Marketing', 'Finance']\n",
    "}\n",
    "\n",
    "salaries_data = {\n",
    "    'EmployeeID': [1, 2, 3, 4, 5],\n",
    "    'Salary': [5000, 6000, 4500, 7000, 5500]\n",
    "}\n",
    "\n",
    "employees_df = pd.DataFrame(employees_data)\n",
    "salaries_df = pd.DataFrame(salaries_data)\n",
    "\n",
    "# By default, unless you choose a different LLM, it will use BambooLLM.\n",
    "# You can get your free API key signing up at https://pandabi.ai (you can also configure it in your .env file)\n",
    "os.environ[\"PANDASAI_API_KEY\"] = \"$2a$10$j3lDvR0w2uzLtxi/bB2DBehUixwpNPkS7JU.3Qh5657ZM7rbhp0KK\"\n",
    "\n",
    "agent = Agent([employees_df, salaries_df])\n",
    "agent.chat(\"Who gets paid the most?\")"
   ]
  },
  {
   "cell_type": "code",
   "execution_count": null,
   "metadata": {},
   "outputs": [],
   "source": [
    "import pandas as pd\n",
    "import numpy as np\n",
    "from random import choices\n",
    "\n",
    "np.random.seed(10)\n",
    "\n",
    "\n",
    "num_records = 1000\n",
    "num_outlets = 10\n",
    "num_products = 5\n",
    "\n",
    "#2 quarters (Jan-mar, apr-jun)\n",
    "dates = pd.date_range(start='2023-01-01', end='2023-06-30')\n",
    "dates = choices(dates, k=num_records)\n",
    "\n",
    "\n",
    "outlets = ['Outlet_'+str(i+1) for i in range(num_outlets)]\n",
    "outlets = choices(outlets, k=num_records)\n",
    "\n",
    "products = ['Product_'+str(i+1) for i in range(num_products)]\n",
    "products = choices(products, k=num_records)\n",
    "\n",
    "units_sold = np.random.randint(1, 200, num_records)\n",
    "price_per_unit = np.random.uniform(10, 500, num_records)\n",
    "\n",
    "total_sales = units_sold * price_per_unit\n",
    "\n",
    "df = pd.DataFrame({\n",
    "    'Date': dates,\n",
    "    'Outlet': outlets,\n",
    "    'Product': products,\n",
    "    'Unit_Sold': units_sold,\n",
    "    'Price_Per_Unit': price_per_unit,\n",
    "    'total_sales': total_sales\n",
    "})\n"
   ]
  },
  {
   "cell_type": "code",
   "execution_count": null,
   "metadata": {},
   "outputs": [],
   "source": [
    "agent=Agent(df)\n",
    "agent.chat(\"Which product has the highest total_sales?\")\n"
   ]
  },
  {
   "cell_type": "code",
   "execution_count": null,
   "metadata": {},
   "outputs": [],
   "source": [
    "agent.chat(\"Format Price_Per_Unit and Total_Sales to 2 decimal places\")\n"
   ]
  },
  {
   "cell_type": "code",
   "execution_count": null,
   "metadata": {},
   "outputs": [],
   "source": [
    "agent.chat(\"Plot the bar chart of the products based on the monthly sales\")\n"
   ]
  }
 ],
 "metadata": {
  "colab": {
   "provenance": []
  },
  "kernelspec": {
   "display_name": "Python 3 (ipykernel)",
   "language": "python",
   "name": "python3"
  },
  "language_info": {
   "codemirror_mode": {
    "name": "ipython",
    "version": 3
   },
   "file_extension": ".py",
   "mimetype": "text/x-python",
   "name": "python",
   "nbconvert_exporter": "python",
   "pygments_lexer": "ipython3",
   "version": "3.10.9"
  }
 },
 "nbformat": 4,
 "nbformat_minor": 1
}
