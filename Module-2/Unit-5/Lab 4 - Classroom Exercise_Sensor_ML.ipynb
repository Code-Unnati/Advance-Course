{
 "cells": [
  {
   "cell_type": "markdown",
   "id": "0e9d76ce",
   "metadata": {},
   "source": [
    "# EDUNET FOUNDATION-Class Exercise Notebook"
   ]
  },
  {
   "cell_type": "markdown",
   "id": "410cb2a5",
   "metadata": {},
   "source": [
    "## LAB 4 - Machine Learning on IoT Sensor Data\n",
    "## Problem Statement"
   ]
  },
  {
   "cell_type": "markdown",
   "id": "3ffdd524",
   "metadata": {},
   "source": [
    "### The downloaded data in lab 3 is majorily in form of unsupervised data. \n",
    "### Try to aggregate data from various sensors and apply Machine Learning Algorithms on them to identify the clusters and data homogeneity."
   ]
  },
  {
   "cell_type": "markdown",
   "id": "523fce3b",
   "metadata": {},
   "source": [
    "### Importing warning package to ignore the warnings"
   ]
  },
  {
   "cell_type": "code",
   "execution_count": 1,
   "id": "88e0186d",
   "metadata": {},
   "outputs": [],
   "source": [
    "import warnings\n",
    "warnings.filterwarnings(\"ignore\")\n",
    "warnings.simplefilter(action='ignore', category=FutureWarning)"
   ]
  },
  {
   "cell_type": "markdown",
   "id": "46503ea0",
   "metadata": {
    "id": "46503ea0"
   },
   "source": [
    "### Import python Libraries viz, Pandas, Seaborn & Sci-kit learn"
   ]
  },
  {
   "cell_type": "code",
   "execution_count": 2,
   "id": "300394e5",
   "metadata": {
    "id": "300394e5"
   },
   "outputs": [],
   "source": [
    "import pandas as pd\n",
    "import matplotlib.pyplot as plt\n",
    "import seaborn as sns\n",
    "from sklearn.cluster import KMeans"
   ]
  },
  {
   "cell_type": "markdown",
   "id": "18006b43",
   "metadata": {
    "id": "2012ca04"
   },
   "source": [
    "### Configure number of threads for computation"
   ]
  },
  {
   "cell_type": "code",
   "execution_count": 3,
   "id": "8d9104b6",
   "metadata": {
    "id": "8d9104b6"
   },
   "outputs": [],
   "source": [
    "import os\n",
    "os.environ[\"OMP_NUM_THREADS\"] = '1'"
   ]
  },
  {
   "cell_type": "markdown",
   "id": "2cba2053",
   "metadata": {
    "id": "2cba2053"
   },
   "source": [
    "### Load Data downloaded in Lab3, ( Sensor data from Cloud) "
   ]
  },
  {
   "cell_type": "code",
   "execution_count": 4,
   "id": "ac57dd0c",
   "metadata": {
    "id": "ac57dd0c"
   },
   "outputs": [
    {
     "data": {
      "text/html": [
       "<div>\n",
       "<style scoped>\n",
       "    .dataframe tbody tr th:only-of-type {\n",
       "        vertical-align: middle;\n",
       "    }\n",
       "\n",
       "    .dataframe tbody tr th {\n",
       "        vertical-align: top;\n",
       "    }\n",
       "\n",
       "    .dataframe thead th {\n",
       "        text-align: right;\n",
       "    }\n",
       "</style>\n",
       "<table border=\"1\" class=\"dataframe\">\n",
       "  <thead>\n",
       "    <tr style=\"text-align: right;\">\n",
       "      <th></th>\n",
       "      <th>X</th>\n",
       "      <th>Y</th>\n",
       "      <th>Z</th>\n",
       "    </tr>\n",
       "  </thead>\n",
       "  <tbody>\n",
       "    <tr>\n",
       "      <th>0</th>\n",
       "      <td>0.014579</td>\n",
       "      <td>-0.014945</td>\n",
       "      <td>1.007415</td>\n",
       "    </tr>\n",
       "    <tr>\n",
       "      <th>1</th>\n",
       "      <td>0.014091</td>\n",
       "      <td>0.001891</td>\n",
       "      <td>1.008879</td>\n",
       "    </tr>\n",
       "    <tr>\n",
       "      <th>2</th>\n",
       "      <td>0.014823</td>\n",
       "      <td>0.000183</td>\n",
       "      <td>1.011807</td>\n",
       "    </tr>\n",
       "    <tr>\n",
       "      <th>3</th>\n",
       "      <td>0.014091</td>\n",
       "      <td>0.001159</td>\n",
       "      <td>1.011807</td>\n",
       "    </tr>\n",
       "    <tr>\n",
       "      <th>4</th>\n",
       "      <td>0.014579</td>\n",
       "      <td>-0.012749</td>\n",
       "      <td>1.001071</td>\n",
       "    </tr>\n",
       "    <tr>\n",
       "      <th>...</th>\n",
       "      <td>...</td>\n",
       "      <td>...</td>\n",
       "      <td>...</td>\n",
       "    </tr>\n",
       "    <tr>\n",
       "      <th>95</th>\n",
       "      <td>0.015799</td>\n",
       "      <td>0.000183</td>\n",
       "      <td>1.010587</td>\n",
       "    </tr>\n",
       "    <tr>\n",
       "      <th>96</th>\n",
       "      <td>0.013847</td>\n",
       "      <td>0.000427</td>\n",
       "      <td>1.011319</td>\n",
       "    </tr>\n",
       "    <tr>\n",
       "      <th>97</th>\n",
       "      <td>0.016043</td>\n",
       "      <td>0.000427</td>\n",
       "      <td>1.012295</td>\n",
       "    </tr>\n",
       "    <tr>\n",
       "      <th>98</th>\n",
       "      <td>0.014823</td>\n",
       "      <td>-0.000793</td>\n",
       "      <td>1.010587</td>\n",
       "    </tr>\n",
       "    <tr>\n",
       "      <th>99</th>\n",
       "      <td>0.014823</td>\n",
       "      <td>0.000183</td>\n",
       "      <td>1.013027</td>\n",
       "    </tr>\n",
       "  </tbody>\n",
       "</table>\n",
       "<p>100 rows × 3 columns</p>\n",
       "</div>"
      ],
      "text/plain": [
       "           X         Y         Z\n",
       "0   0.014579 -0.014945  1.007415\n",
       "1   0.014091  0.001891  1.008879\n",
       "2   0.014823  0.000183  1.011807\n",
       "3   0.014091  0.001159  1.011807\n",
       "4   0.014579 -0.012749  1.001071\n",
       "..       ...       ...       ...\n",
       "95  0.015799  0.000183  1.010587\n",
       "96  0.013847  0.000427  1.011319\n",
       "97  0.016043  0.000427  1.012295\n",
       "98  0.014823 -0.000793  1.010587\n",
       "99  0.014823  0.000183  1.013027\n",
       "\n",
       "[100 rows x 3 columns]"
      ]
     },
     "execution_count": 4,
     "metadata": {},
     "output_type": "execute_result"
    }
   ],
   "source": [
    "df=pd.read_csv(\"mobile_data.csv\")\n",
    "df"
   ]
  },
  {
   "cell_type": "code",
   "execution_count": 5,
   "id": "177f51a0",
   "metadata": {
    "colab": {
     "base_uri": "https://localhost:8080/",
     "height": 206
    },
    "id": "177f51a0",
    "outputId": "d24cfc55-38d6-4e74-abb0-e9fc266f7c54"
   },
   "outputs": [
    {
     "data": {
      "text/html": [
       "<div>\n",
       "<style scoped>\n",
       "    .dataframe tbody tr th:only-of-type {\n",
       "        vertical-align: middle;\n",
       "    }\n",
       "\n",
       "    .dataframe tbody tr th {\n",
       "        vertical-align: top;\n",
       "    }\n",
       "\n",
       "    .dataframe thead th {\n",
       "        text-align: right;\n",
       "    }\n",
       "</style>\n",
       "<table border=\"1\" class=\"dataframe\">\n",
       "  <thead>\n",
       "    <tr style=\"text-align: right;\">\n",
       "      <th></th>\n",
       "      <th>X</th>\n",
       "      <th>Y</th>\n",
       "      <th>Z</th>\n",
       "    </tr>\n",
       "  </thead>\n",
       "  <tbody>\n",
       "    <tr>\n",
       "      <th>0</th>\n",
       "      <td>0.014579</td>\n",
       "      <td>-0.014945</td>\n",
       "      <td>1.007415</td>\n",
       "    </tr>\n",
       "    <tr>\n",
       "      <th>1</th>\n",
       "      <td>0.014091</td>\n",
       "      <td>0.001891</td>\n",
       "      <td>1.008879</td>\n",
       "    </tr>\n",
       "    <tr>\n",
       "      <th>2</th>\n",
       "      <td>0.014823</td>\n",
       "      <td>0.000183</td>\n",
       "      <td>1.011807</td>\n",
       "    </tr>\n",
       "    <tr>\n",
       "      <th>3</th>\n",
       "      <td>0.014091</td>\n",
       "      <td>0.001159</td>\n",
       "      <td>1.011807</td>\n",
       "    </tr>\n",
       "    <tr>\n",
       "      <th>4</th>\n",
       "      <td>0.014579</td>\n",
       "      <td>-0.012749</td>\n",
       "      <td>1.001071</td>\n",
       "    </tr>\n",
       "  </tbody>\n",
       "</table>\n",
       "</div>"
      ],
      "text/plain": [
       "          X         Y         Z\n",
       "0  0.014579 -0.014945  1.007415\n",
       "1  0.014091  0.001891  1.008879\n",
       "2  0.014823  0.000183  1.011807\n",
       "3  0.014091  0.001159  1.011807\n",
       "4  0.014579 -0.012749  1.001071"
      ]
     },
     "execution_count": 5,
     "metadata": {},
     "output_type": "execute_result"
    }
   ],
   "source": [
    "df.head()"
   ]
  },
  {
   "cell_type": "markdown",
   "id": "fed7b0e9",
   "metadata": {
    "id": "fed7b0e9"
   },
   "source": [
    "### Explore data to check consistency"
   ]
  },
  {
   "cell_type": "markdown",
   "id": "d9016cea",
   "metadata": {
    "id": "41b692b5"
   },
   "source": [
    "### Check Null Values"
   ]
  },
  {
   "cell_type": "code",
   "execution_count": 6,
   "id": "c1df7d3e",
   "metadata": {
    "colab": {
     "base_uri": "https://localhost:8080/"
    },
    "id": "c1df7d3e",
    "outputId": "7c8a3b3d-b277-417c-cf19-d2e459297dde"
   },
   "outputs": [
    {
     "data": {
      "text/plain": [
       "X    0\n",
       "Y    0\n",
       "Z    0\n",
       "dtype: int64"
      ]
     },
     "execution_count": 6,
     "metadata": {},
     "output_type": "execute_result"
    }
   ],
   "source": [
    "df.isnull().sum()"
   ]
  },
  {
   "cell_type": "markdown",
   "id": "1df3082a",
   "metadata": {
    "id": "878f1579"
   },
   "source": [
    "### Observation: There is no missing values."
   ]
  },
  {
   "cell_type": "markdown",
   "id": "e573a534",
   "metadata": {
    "id": "c43b2ec4"
   },
   "source": [
    "### Perform Visual and Statistical Understanding of data"
   ]
  },
  {
   "cell_type": "code",
   "execution_count": 7,
   "id": "e5234f74",
   "metadata": {
    "colab": {
     "base_uri": "https://localhost:8080/",
     "height": 449
    },
    "id": "e5234f74",
    "outputId": "f287230c-56f1-40f6-b782-32007fd1f2b0"
   },
   "outputs": [
    {
     "data": {
      "image/png": "[encoded data removed]",
      "text/plain": [
       "<Figure size 640x480 with 1 Axes>"
      ]
     },
     "metadata": {},
     "output_type": "display_data"
    }
   ],
   "source": [
    "plt.scatter(df['X'],df['Y'])\n",
    "plt.xlabel(\"Acc_X\")\n",
    "plt.ylabel(\"Acc_Y\")\n",
    "plt.show()"
   ]
  },
  {
   "cell_type": "code",
   "execution_count": 8,
   "id": "4f316e2e",
   "metadata": {
    "colab": {
     "base_uri": "https://localhost:8080/",
     "height": 466
    },
    "id": "4f316e2e",
    "outputId": "280d650a-119f-4ede-ba8e-d5344919281e"
   },
   "outputs": [
    {
     "data": {
      "text/plain": [
       "Text(0, 0.5, 'Acc_Z')"
      ]
     },
     "execution_count": 8,
     "metadata": {},
     "output_type": "execute_result"
    },
    {
     "data": {
      "image/png": "[encoded data removed]",
      "text/plain": [
       "<Figure size 640x480 with 1 Axes>"
      ]
     },
     "metadata": {},
     "output_type": "display_data"
    }
   ],
   "source": [
    "plt.scatter(df[\"Y\"],df[\"Z\"])\n",
    "plt.xlabel(\"Acc_Y\")\n",
    "plt.ylabel(\"Acc_Z\")"
   ]
  },
  {
   "cell_type": "markdown",
   "id": "97e5bc51",
   "metadata": {
    "id": "97e5bc51"
   },
   "source": [
    "### Choose Relevant Columns"
   ]
  },
  {
   "cell_type": "markdown",
   "id": "7bb1ddca",
   "metadata": {
    "id": "7bb1ddca"
   },
   "source": [
    "### In this example, we will use the numerical ones: X, Y, and Z direction acceleration values"
   ]
  },
  {
   "cell_type": "code",
   "execution_count": 9,
   "id": "8a4f1b49",
   "metadata": {
    "id": "8a4f1b49"
   },
   "outputs": [
    {
     "data": {
      "text/html": [
       "<div>\n",
       "<style scoped>\n",
       "    .dataframe tbody tr th:only-of-type {\n",
       "        vertical-align: middle;\n",
       "    }\n",
       "\n",
       "    .dataframe tbody tr th {\n",
       "        vertical-align: top;\n",
       "    }\n",
       "\n",
       "    .dataframe thead th {\n",
       "        text-align: right;\n",
       "    }\n",
       "</style>\n",
       "<table border=\"1\" class=\"dataframe\">\n",
       "  <thead>\n",
       "    <tr style=\"text-align: right;\">\n",
       "      <th></th>\n",
       "      <th>X</th>\n",
       "      <th>Y</th>\n",
       "      <th>Z</th>\n",
       "    </tr>\n",
       "  </thead>\n",
       "  <tbody>\n",
       "    <tr>\n",
       "      <th>0</th>\n",
       "      <td>0.014579</td>\n",
       "      <td>-0.014945</td>\n",
       "      <td>1.007415</td>\n",
       "    </tr>\n",
       "    <tr>\n",
       "      <th>1</th>\n",
       "      <td>0.014091</td>\n",
       "      <td>0.001891</td>\n",
       "      <td>1.008879</td>\n",
       "    </tr>\n",
       "    <tr>\n",
       "      <th>2</th>\n",
       "      <td>0.014823</td>\n",
       "      <td>0.000183</td>\n",
       "      <td>1.011807</td>\n",
       "    </tr>\n",
       "    <tr>\n",
       "      <th>3</th>\n",
       "      <td>0.014091</td>\n",
       "      <td>0.001159</td>\n",
       "      <td>1.011807</td>\n",
       "    </tr>\n",
       "    <tr>\n",
       "      <th>4</th>\n",
       "      <td>0.014579</td>\n",
       "      <td>-0.012749</td>\n",
       "      <td>1.001071</td>\n",
       "    </tr>\n",
       "    <tr>\n",
       "      <th>...</th>\n",
       "      <td>...</td>\n",
       "      <td>...</td>\n",
       "      <td>...</td>\n",
       "    </tr>\n",
       "    <tr>\n",
       "      <th>95</th>\n",
       "      <td>0.015799</td>\n",
       "      <td>0.000183</td>\n",
       "      <td>1.010587</td>\n",
       "    </tr>\n",
       "    <tr>\n",
       "      <th>96</th>\n",
       "      <td>0.013847</td>\n",
       "      <td>0.000427</td>\n",
       "      <td>1.011319</td>\n",
       "    </tr>\n",
       "    <tr>\n",
       "      <th>97</th>\n",
       "      <td>0.016043</td>\n",
       "      <td>0.000427</td>\n",
       "      <td>1.012295</td>\n",
       "    </tr>\n",
       "    <tr>\n",
       "      <th>98</th>\n",
       "      <td>0.014823</td>\n",
       "      <td>-0.000793</td>\n",
       "      <td>1.010587</td>\n",
       "    </tr>\n",
       "    <tr>\n",
       "      <th>99</th>\n",
       "      <td>0.014823</td>\n",
       "      <td>0.000183</td>\n",
       "      <td>1.013027</td>\n",
       "    </tr>\n",
       "  </tbody>\n",
       "</table>\n",
       "<p>100 rows × 3 columns</p>\n",
       "</div>"
      ],
      "text/plain": [
       "           X         Y         Z\n",
       "0   0.014579 -0.014945  1.007415\n",
       "1   0.014091  0.001891  1.008879\n",
       "2   0.014823  0.000183  1.011807\n",
       "3   0.014091  0.001159  1.011807\n",
       "4   0.014579 -0.012749  1.001071\n",
       "..       ...       ...       ...\n",
       "95  0.015799  0.000183  1.010587\n",
       "96  0.013847  0.000427  1.011319\n",
       "97  0.016043  0.000427  1.012295\n",
       "98  0.014823 -0.000793  1.010587\n",
       "99  0.014823  0.000183  1.013027\n",
       "\n",
       "[100 rows x 3 columns]"
      ]
     },
     "execution_count": 9,
     "metadata": {},
     "output_type": "execute_result"
    }
   ],
   "source": [
    "relevant_cols = [\"X\",\"Y\",\"Z\"]\n",
    "\n",
    "final_df = df[relevant_cols]\n",
    "final_df"
   ]
  },
  {
   "cell_type": "markdown",
   "id": "519ca88a",
   "metadata": {
    "id": "519ca88a"
   },
   "source": [
    "### Data Transformation"
   ]
  },
  {
   "cell_type": "markdown",
   "id": "3099f823",
   "metadata": {
    "id": "3099f823"
   },
   "source": [
    "#### Kmeans is sensitive to the measurement units and scales of the data. \n",
    "#### It is better to standardize the data first to tackle this issue"
   ]
  },
  {
   "cell_type": "markdown",
   "id": "6857fd9e",
   "metadata": {
    "id": "6857fd9e"
   },
   "source": [
    "#### The standardization substracts the mean of any feature from the actual values of that feature and divides the feature’s standard deviation."
   ]
  },
  {
   "cell_type": "code",
   "execution_count": 10,
   "id": "3beff647",
   "metadata": {
    "id": "3beff647",
    "scrolled": true
   },
   "outputs": [
    {
     "data": {
      "text/html": [
       "<style>#sk-container-id-1 {color: black;background-color: white;}#sk-container-id-1 pre{padding: 0;}#sk-container-id-1 div.sk-toggleable {background-color: white;}#sk-container-id-1 label.sk-toggleable__label {cursor: pointer;display: block;width: 100%;margin-bottom: 0;padding: 0.3em;box-sizing: border-box;text-align: center;}#sk-container-id-1 label.sk-toggleable__label-arrow:before {content: \"▸\";float: left;margin-right: 0.25em;color: #696969;}#sk-container-id-1 label.sk-toggleable__label-arrow:hover:before {color: black;}#sk-container-id-1 div.sk-estimator:hover label.sk-toggleable__label-arrow:before {color: black;}#sk-container-id-1 div.sk-toggleable__content {max-height: 0;max-width: 0;overflow: hidden;text-align: left;background-color: #f0f8ff;}#sk-container-id-1 div.sk-toggleable__content pre {margin: 0.2em;color: black;border-radius: 0.25em;background-color: #f0f8ff;}#sk-container-id-1 input.sk-toggleable__control:checked~div.sk-toggleable__content {max-height: 200px;max-width: 100%;overflow: auto;}#sk-container-id-1 input.sk-toggleable__control:checked~label.sk-toggleable__label-arrow:before {content: \"▾\";}#sk-container-id-1 div.sk-estimator input.sk-toggleable__control:checked~label.sk-toggleable__label {background-color: #d4ebff;}#sk-container-id-1 div.sk-label input.sk-toggleable__control:checked~label.sk-toggleable__label {background-color: #d4ebff;}#sk-container-id-1 input.sk-hidden--visually {border: 0;clip: rect(1px 1px 1px 1px);clip: rect(1px, 1px, 1px, 1px);height: 1px;margin: -1px;overflow: hidden;padding: 0;position: absolute;width: 1px;}#sk-container-id-1 div.sk-estimator {font-family: monospace;background-color: #f0f8ff;border: 1px dotted black;border-radius: 0.25em;box-sizing: border-box;margin-bottom: 0.5em;}#sk-container-id-1 div.sk-estimator:hover {background-color: #d4ebff;}#sk-container-id-1 div.sk-parallel-item::after {content: \"\";width: 100%;border-bottom: 1px solid gray;flex-grow: 1;}#sk-container-id-1 div.sk-label:hover label.sk-toggleable__label {background-color: #d4ebff;}#sk-container-id-1 div.sk-serial::before {content: \"\";position: absolute;border-left: 1px solid gray;box-sizing: border-box;top: 0;bottom: 0;left: 50%;z-index: 0;}#sk-container-id-1 div.sk-serial {display: flex;flex-direction: column;align-items: center;background-color: white;padding-right: 0.2em;padding-left: 0.2em;position: relative;}#sk-container-id-1 div.sk-item {position: relative;z-index: 1;}#sk-container-id-1 div.sk-parallel {display: flex;align-items: stretch;justify-content: center;background-color: white;position: relative;}#sk-container-id-1 div.sk-item::before, #sk-container-id-1 div.sk-parallel-item::before {content: \"\";position: absolute;border-left: 1px solid gray;box-sizing: border-box;top: 0;bottom: 0;left: 50%;z-index: -1;}#sk-container-id-1 div.sk-parallel-item {display: flex;flex-direction: column;z-index: 1;position: relative;background-color: white;}#sk-container-id-1 div.sk-parallel-item:first-child::after {align-self: flex-end;width: 50%;}#sk-container-id-1 div.sk-parallel-item:last-child::after {align-self: flex-start;width: 50%;}#sk-container-id-1 div.sk-parallel-item:only-child::after {width: 0;}#sk-container-id-1 div.sk-dashed-wrapped {border: 1px dashed gray;margin: 0 0.4em 0.5em 0.4em;box-sizing: border-box;padding-bottom: 0.4em;background-color: white;}#sk-container-id-1 div.sk-label label {font-family: monospace;font-weight: bold;display: inline-block;line-height: 1.2em;}#sk-container-id-1 div.sk-label-container {text-align: center;}#sk-container-id-1 div.sk-container {/* jupyter's `normalize.less` sets `[hidden] { display: none; }` but bootstrap.min.css set `[hidden] { display: none !important; }` so we also need the `!important` here to be able to override the default hidden behavior on the sphinx rendered scikit-learn.org. See: https://github.com/scikit-learn/scikit-learn/issues/21755 */display: inline-block !important;position: relative;}#sk-container-id-1 div.sk-text-repr-fallback {display: none;}</style><div id=\"sk-container-id-1\" class=\"sk-top-container\"><div class=\"sk-text-repr-fallback\"><pre>StandardScaler()</pre><b>In a Jupyter environment, please rerun this cell to show the HTML representation or trust the notebook. <br />On GitHub, the HTML representation is unable to render, please try loading this page with nbviewer.org.</b></div><div class=\"sk-container\" hidden><div class=\"sk-item\"><div class=\"sk-estimator sk-toggleable\"><input class=\"sk-toggleable__control sk-hidden--visually\" id=\"sk-estimator-id-1\" type=\"checkbox\" checked><label for=\"sk-estimator-id-1\" class=\"sk-toggleable__label sk-toggleable__label-arrow\">StandardScaler</label><div class=\"sk-toggleable__content\"><pre>StandardScaler()</pre></div></div></div></div></div>"
      ],
      "text/plain": [
       "StandardScaler()"
      ]
     },
     "execution_count": 10,
     "metadata": {},
     "output_type": "execute_result"
    }
   ],
   "source": [
    "from sklearn.preprocessing import StandardScaler\n",
    "scaler = StandardScaler()\n",
    "scaler.fit(final_df)"
   ]
  },
  {
   "cell_type": "markdown",
   "id": "563a6822",
   "metadata": {},
   "source": [
    "### Here it needs to apply transformation to raw data"
   ]
  },
  {
   "cell_type": "code",
   "execution_count": 11,
   "id": "fc3cac92",
   "metadata": {
    "id": "fc3cac92"
   },
   "outputs": [
    {
     "data": {
      "text/plain": [
       "array([[-0.46128391, -2.9749853 , -0.53177541],\n",
       "       [-0.73504371,  0.34922248, -0.16545644],\n",
       "       [-0.32440485,  0.01198401,  0.56720576],\n",
       "       [-0.73504371,  0.20469171,  0.56720576],\n",
       "       [-0.46128391, -2.54139317, -2.1192064 ],\n",
       "       [ 4.3295022 ,  0.44557633,  5.75682218],\n",
       "       [-0.18752524,  0.20469171,  0.62825905],\n",
       "       [-0.46128391, -0.03619291, -0.16545644],\n",
       "       [ 0.22311418, -0.03619291,  0.0787562 ],\n",
       "       [-0.32440485, -0.08436983, -0.04335012],\n",
       "       [-0.46128391,  0.06016094, -0.28756277],\n",
       "       [-0.18752524,  0.10833786,  0.26191556],\n",
       "       [-0.32440485,  0.15651479,  0.38402188],\n",
       "       [ 0.49687286, -0.03619291, -0.5928287 ],\n",
       "       [ 0.22311418, -0.03619291,  0.26191556],\n",
       "       [-0.18752524, -0.08436983, -0.10440341],\n",
       "       [-0.18752524,  0.15651479,  0.26191556],\n",
       "       [ 0.35999324,  0.10833786, -0.65390625],\n",
       "       [ 1.04439134,  0.25286864, -1.56970355],\n",
       "       [ 0.35999324,  0.06016094, -1.56970355],\n",
       "       [ 0.63375304, -0.18072368, -1.50865051],\n",
       "       [ 0.086234  ,  0.06016094, -1.63075683],\n",
       "       [ 0.22311418,  0.10833786, -1.50865051],\n",
       "       [-0.05064562,  0.01198401, -1.44759723],\n",
       "       [ 0.63375304, -0.08436983, -1.08127826],\n",
       "       [ 0.086234  , -0.03619291, -0.77601258],\n",
       "       [-0.18752524, -0.08436983, -0.53177541],\n",
       "       [ 0.086234  ,  0.10833786, -0.95917194],\n",
       "       [ 0.49687286,  0.20469171,  0.01770292],\n",
       "       [ 0.22311418,  0.06016094, -0.53177541],\n",
       "       [ 0.7706321 ,  0.10833786, -0.77601258],\n",
       "       [-0.32440485, -0.08436983, -0.71495929],\n",
       "       [ 0.22311418, -0.08436983, -0.53177541],\n",
       "       [-0.05064562, -0.13254676,  0.0787562 ],\n",
       "       [ 0.086234  ,  0.06016094, -0.04335012],\n",
       "       [-0.18752524,  0.10833786, -0.40966909],\n",
       "       [-0.05064562,  0.10833786, -0.22650973],\n",
       "       [ 0.086234  ,  0.01198401, -0.16545644],\n",
       "       [-0.46128391,  0.01198401, -0.5928287 ],\n",
       "       [ 0.086234  ,  0.10833786, -0.53177541],\n",
       "       [-0.87192277,  0.10833786,  0.56720576],\n",
       "       [ 5.56141877, -6.3473702 ,  0.50615273],\n",
       "       [-5.79958962,  6.52189092,  0.44507517],\n",
       "       [ 0.7706321 , -0.08436983, -1.14233154],\n",
       "       [ 0.49687286,  0.10833786, -0.83706561],\n",
       "       [-0.32440485,  0.25286864, -0.47072237],\n",
       "       [-0.05064562, -0.08436983,  0.0787562 ],\n",
       "       [-0.46128391,  0.10833786,  0.93352473],\n",
       "       [-0.73504371,  0.06016094,  1.36089699],\n",
       "       [-0.46128391,  0.20469171,  1.05563105],\n",
       "       [ 0.22311418,  0.06016094,  0.50615273],\n",
       "       [-0.18752524,  0.15651479,  0.56720576],\n",
       "       [-0.46128391, -0.03619291,  1.17773738],\n",
       "       [-0.18752524,  0.06016094, -0.28756277],\n",
       "       [ 0.35999324,  0.30104556,  0.38402188],\n",
       "       [-0.18752524, -0.03619291,  0.68931209],\n",
       "       [-0.05064562,  0.10833786,  0.13980924],\n",
       "       [-0.32440485,  0.10833786, -0.53177541],\n",
       "       [ 0.086234  ,  0.01198401, -1.08127826],\n",
       "       [-0.05064562,  0.06016094, -0.71495929],\n",
       "       [ 0.22311418, -0.13254676, -0.22650973],\n",
       "       [-0.05064562, -0.08436983, -0.28756277],\n",
       "       [-0.05064562, -0.08436983, -0.04335012],\n",
       "       [-0.59816409, -0.18072368, -0.10440341],\n",
       "       [ 0.35999324,  0.06016094,  0.50615273],\n",
       "       [-0.18752524,  0.15651479, -0.28756277],\n",
       "       [-0.59816409,  0.01198401,  0.01770292],\n",
       "       [ 0.22311418,  0.15651479,  0.62825905],\n",
       "       [-0.18752524,  0.25286864,  0.44507517],\n",
       "       [-0.05064562,  0.01198401,  0.38402188],\n",
       "       [-0.59816409, -0.03619291,  0.50615273],\n",
       "       [-0.18752524,  0.01198401,  0.56720576],\n",
       "       [ 0.63375304,  0.01198401, -0.10440341],\n",
       "       [-0.05064562,  0.10833786,  0.38402188],\n",
       "       [ 0.086234  ,  0.15651479,  4.59678772],\n",
       "       [-0.46128391, -0.13254676, -0.10440341],\n",
       "       [ 0.90751228,  0.30104556, -0.83706561],\n",
       "       [ 0.086234  ,  0.01198401,  0.20086252],\n",
       "       [-0.46128391, -0.13254676,  0.26191556],\n",
       "       [-0.18752524,  0.06016094,  0.01770292],\n",
       "       [ 0.7706321 ,  0.01198401, -0.34861605],\n",
       "       [ 0.22311418,  0.39739941, -0.10440341],\n",
       "       [ 0.22311418,  0.06016094, -0.22650973],\n",
       "       [-0.73504371,  0.06016094,  0.8724717 ],\n",
       "       [-0.32440485,  0.20469171, -0.34861605],\n",
       "       [ 0.22311418, -0.03619291,  0.0787562 ],\n",
       "       [-0.73504371,  0.34922248, -0.8981189 ],\n",
       "       [-0.05064562,  0.10833786, -0.34861605],\n",
       "       [-0.05064562,  0.10833786,  0.13980924],\n",
       "       [ 0.086234  ,  0.01198401,  0.13980924],\n",
       "       [-0.18752524, -0.08436983,  0.56720576],\n",
       "       [ 0.35999324, -0.03619291, -0.28756277],\n",
       "       [ 0.7706321 ,  0.10833786,  0.50615273],\n",
       "       [-0.32440485,  0.06016094,  0.38402188],\n",
       "       [ 0.086234  , -0.13254676,  0.38402188],\n",
       "       [ 0.22311418,  0.01198401,  0.26191556],\n",
       "       [-0.87192277,  0.06016094,  0.44507517],\n",
       "       [ 0.35999324,  0.06016094,  0.68931209],\n",
       "       [-0.32440485, -0.18072368,  0.26191556],\n",
       "       [-0.32440485,  0.01198401,  0.8724717 ]])"
      ]
     },
     "execution_count": 11,
     "metadata": {},
     "output_type": "execute_result"
    }
   ],
   "source": [
    "scaled_data = scaler.transform(final_df)\n",
    "scaled_data"
   ]
  },
  {
   "cell_type": "markdown",
   "id": "3654ea78",
   "metadata": {
    "id": "3654ea78"
   },
   "source": [
    "### Determine the best number of cluster"
   ]
  },
  {
   "cell_type": "markdown",
   "id": "d0a29ee5",
   "metadata": {
    "id": "d0a29ee5"
   },
   "source": [
    "#### A clustering model will not be relevant if we fail to identify the correct number of clusters to consider. Multiple techniques exist in the literature. We are going to consider the Elbow method, which is a heuristic method, and one of the widely used to find the optimal number of clusters."
   ]
  },
  {
   "cell_type": "code",
   "execution_count": 12,
   "id": "d93f6cd4",
   "metadata": {
    "id": "d93f6cd4"
   },
   "outputs": [],
   "source": [
    "def find_best_clusters(df, maximum_K):\n",
    "    clusters_centers = []\n",
    "    k_values = []\n",
    "    for k in range(1, maximum_K):\n",
    "        kmeans_model = KMeans(n_clusters = k)\n",
    "        kmeans_model.fit(df)\n",
    "        clusters_centers.append(kmeans_model.inertia_)\n",
    "        k_values.append(k)\n",
    "    return clusters_centers, k_values\n"
   ]
  },
  {
   "cell_type": "code",
   "execution_count": 13,
   "id": "31b0fac6",
   "metadata": {
    "colab": {
     "base_uri": "https://localhost:8080/"
    },
    "id": "31b0fac6",
    "outputId": "42eb4dce-b6c1-4c86-8608-416a1de9857a"
   },
   "outputs": [],
   "source": [
    "clusters_centers, k_values = find_best_clusters(scaled_data, 12)"
   ]
  },
  {
   "cell_type": "code",
   "execution_count": 14,
   "id": "a728324c",
   "metadata": {
    "id": "a728324c"
   },
   "outputs": [],
   "source": [
    "def generate_elbow_plot(clusters_centers, k_values):\n",
    "\n",
    "    figure = plt.subplots(figsize = (12, 6))\n",
    "    plt.plot(k_values, clusters_centers, 'o-', color = 'orange')\n",
    "    plt.xlabel(\"Number of Clusters (K)\")\n",
    "    plt.ylabel(\"Cluster Inertia\")\n",
    "    plt.title(\"Elbow Plot of KMeans\")\n",
    "    plt.show()"
   ]
  },
  {
   "cell_type": "code",
   "execution_count": 15,
   "id": "16074236",
   "metadata": {
    "colab": {
     "base_uri": "https://localhost:8080/",
     "height": 564
    },
    "id": "16074236",
    "outputId": "27b021c3-4a02-4132-b3a1-6eacccd62671"
   },
   "outputs": [
    {
     "data": {
      "image/png": "[encoded data removed]",
      "text/plain": [
       "<Figure size 1200x600 with 1 Axes>"
      ]
     },
     "metadata": {},
     "output_type": "display_data"
    }
   ],
   "source": [
    "generate_elbow_plot(clusters_centers, k_values)"
   ]
  },
  {
   "cell_type": "markdown",
   "id": "07b25dd2",
   "metadata": {},
   "source": [
    "### Can anyone tell me optimal number of clusters identified in IoT data. "
   ]
  },
  {
   "cell_type": "markdown",
   "id": "1aa7a9b6",
   "metadata": {},
   "source": [
    "### 6 different patterns are present in IoT data"
   ]
  },
  {
   "cell_type": "code",
   "execution_count": null,
   "id": "91e47d07",
   "metadata": {},
   "outputs": [],
   "source": []
  }
 ],
 "metadata": {
  "colab": {
   "provenance": []
  },
  "kernelspec": {
   "display_name": "Python 3 (ipykernel)",
   "language": "python",
   "name": "python3"
  },
  "language_info": {
   "codemirror_mode": {
    "name": "ipython",
    "version": 3
   },
   "file_extension": ".py",
   "mimetype": "text/x-python",
   "name": "python",
   "nbconvert_exporter": "python",
   "pygments_lexer": "ipython3",
   "version": "3.10.9"
  }
 },
 "nbformat": 4,
 "nbformat_minor": 5
}
